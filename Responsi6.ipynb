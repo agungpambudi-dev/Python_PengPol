{
 "cells": [
  {
   "cell_type": "code",
   "execution_count": 3,
   "id": "musical-plaza",
   "metadata": {},
   "outputs": [],
   "source": [
    "#1. Mendefinisikan State \n",
    " \n",
    "# Definisi Matrik Transisi (states)\n",
    "\n",
    "states = ('Rainy', 'Sunny')\n",
    " \n",
    "# definisi Matriks Observasi / Matrik emmisi    \n",
    "observations = ('walk', 'shop', 'clean')\n",
    "\n",
    "# definisi Matriks Priority\n",
    "start_probability = {'Rainy': 0.6, 'Sunny': 0.4}\n",
    " \n",
    "transition_probability = {\n",
    "   'Rainy' : {'Rainy': 0.7, 'Sunny': 0.3},\n",
    "   'Sunny' : {'Rainy': 0.4, 'Sunny': 0.6},\n",
    "   }\n",
    " \n",
    "emission_probability = {\n",
    "   'Rainy' : {'walk': 0.1, 'shop': 0.4, 'clean': 0.5},\n",
    "   'Sunny' : {'walk': 0.6, 'shop': 0.3, 'clean': 0.1},\n",
    "   }"
   ]
  },
  {
   "cell_type": "code",
   "execution_count": 4,
   "id": "perceived-defense",
   "metadata": {},
   "outputs": [],
   "source": [
    "#2. Instalasi library dan representasi pada matrik \n",
    "\n",
    "# Library untuk HMM\n",
    "# Cara install pip install hmmlearn==0.2.2\n",
    "\n",
    "from hmmlearn import hmm\n",
    "import numpy as np\n",
    "\n",
    "model = hmm.MultinomialHMM(n_components=2)\n",
    "model.startprob_ = np.array([0.6, 0.4])\n",
    "model.transmat_ = np.array([[0.7, 0.3],\n",
    "                            [0.4, 0.6]])\n",
    "model.emissionprob_ = np.array([[0.1, 0.4, 0.5],\n",
    "                                [0.6, 0.3, 0.1]])"
   ]
  },
  {
   "cell_type": "code",
   "execution_count": 5,
   "id": "useful-uncertainty",
   "metadata": {},
   "outputs": [
    {
     "data": {
      "text/plain": [
       "0.36000000000000004"
      ]
     },
     "execution_count": 5,
     "metadata": {},
     "output_type": "execute_result"
    }
   ],
   "source": [
    "#3. Menyelesaikan permasalahan 1 dari HMM \n",
    "\n",
    "# Given a known model what is the likelihood of sequence O happening?\n",
    "# The probability of the first observation being “Walk” equals to the multiplication \n",
    "# of the initial state distribution and emission probability matrix.\n",
    "# 0.6 x 0.1 + 0.4 x 0.6 = 0.30 (30%). \n",
    "# The log likelihood is provided from calling .score.\n",
    "# catatan {'walk', 'shop','clean' }\n",
    "# Kasus untuk initial state #\n",
    "# contoh untuk observasi 'walk' \n",
    "# peluang dari model jika observasi adalah 'walk'\n",
    "# 0.6 x 0.1 + 0.4 x 0.6 = 0.30 (30%)\n",
    "\n",
    "import math \n",
    "math.exp(model.score(np.array([[0]])))\n",
    "\n",
    "# contoh untuk observasi 'shop' \n",
    "# peluang dari model jika observasi adalah 'shop'\n",
    "# 0.6 x 0.4 + 0.4 x 0.3 = (36%)\n",
    "\n",
    "math.exp(model.score(np.array([[1]])))"
   ]
  },
  {
   "cell_type": "code",
   "execution_count": 6,
   "id": "federal-seeker",
   "metadata": {},
   "outputs": [
    {
     "data": {
      "text/plain": [
       "0.3400000000000001"
      ]
     },
     "execution_count": 6,
     "metadata": {},
     "output_type": "execute_result"
    }
   ],
   "source": [
    "# contoh untuk observasi 'clean' \n",
    "# peluang dari model jika observasi adalah 'clean'\n",
    "# 0.6 x 0.5 + 0.4 x 0.1 = (34%) \n",
    "\n",
    "math.exp(model.score(np.array([[2]])))"
   ]
  },
  {
   "cell_type": "code",
   "execution_count": 7,
   "id": "stuffed-means",
   "metadata": {},
   "outputs": [
    {
     "data": {
      "text/plain": [
       "0.1244"
      ]
     },
     "execution_count": 7,
     "metadata": {},
     "output_type": "execute_result"
    }
   ],
   "source": [
    "# contoh untuk observasi {'clean', 'clean'} \n",
    "# peluang dari model jika observasi {'clean', 'clean'} adalah\n",
    "\n",
    "math.exp(model.score(np.array([[2,2]])))"
   ]
  },
  {
   "cell_type": "code",
   "execution_count": 8,
   "id": "exposed-oriental",
   "metadata": {},
   "outputs": [
    {
     "name": "stdout",
     "output_type": "stream",
     "text": [
      "0.015120000000000003\n",
      "[0 0 1]\n"
     ]
    }
   ],
   "source": [
    "#4. Menyelesaikan permaslahan 2 dai HMM dengan viterbi algorithm  \n",
    "\n",
    "#==== HMM decode dengan algoritma viterbi di dalamnya ======# \n",
    "logprob, seq = model.decode(np.array([[1,2,0]]).transpose())\n",
    "print(math.exp(logprob))\n",
    "print(seq)"
   ]
  },
  {
   "cell_type": "code",
   "execution_count": 9,
   "id": "legitimate-puppy",
   "metadata": {},
   "outputs": [
    {
     "name": "stdout",
     "output_type": "stream",
     "text": [
      "0.03674999999999999\n",
      "[0 0 0]\n"
     ]
    }
   ],
   "source": [
    "logprob, seq = model.decode(np.array([[2,2,2]]).transpose())\n",
    "print(math.exp(logprob))\n",
    "print(seq)"
   ]
  },
  {
   "cell_type": "code",
   "execution_count": 10,
   "id": "boolean-insight",
   "metadata": {},
   "outputs": [
    {
     "data": {
      "text/plain": [
       "0.004082395400000001"
      ]
     },
     "execution_count": 10,
     "metadata": {},
     "output_type": "execute_result"
    }
   ],
   "source": [
    "# 1. peluang dari model jika observasi {'clean', 'clean',’walk’, ‘walk’, ‘shop’} adalah\n",
    "\n",
    "math.exp(model.score(np.array([[2, 2, 0, 0, 1]])))"
   ]
  },
  {
   "cell_type": "code",
   "execution_count": 11,
   "id": "retired-recorder",
   "metadata": {},
   "outputs": [
    {
     "name": "stdout",
     "output_type": "stream",
     "text": [
      "0.001224720000000001\n",
      "[0 0 1 1 1]\n"
     ]
    }
   ],
   "source": [
    "# 2. Catat state yang paling  baik untuk untuk observasi {'clean', 'clean',’walk’, ‘walk’,‘shop’} dari model yang ada\n",
    "\n",
    "logprob, seq = model.decode(np.array([[2, 2, 0, 0, 1]]).transpose())\n",
    "print(math.exp(logprob))\n",
    "print(seq)"
   ]
  }
 ],
 "metadata": {
  "kernelspec": {
   "display_name": "Python 3",
   "language": "python",
   "name": "python3"
  },
  "language_info": {
   "codemirror_mode": {
    "name": "ipython",
    "version": 3
   },
   "file_extension": ".py",
   "mimetype": "text/x-python",
   "name": "python",
   "nbconvert_exporter": "python",
   "pygments_lexer": "ipython3",
   "version": "3.9.0"
  }
 },
 "nbformat": 4,
 "nbformat_minor": 5
}
