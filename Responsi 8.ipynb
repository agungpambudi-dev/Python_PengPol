{
 "cells": [
  {
   "cell_type": "code",
   "execution_count": 12,
   "id": "synthetic-authority",
   "metadata": {},
   "outputs": [
    {
     "name": "stdout",
     "output_type": "stream",
     "text": [
      "     pregnant  glucose  bp  skin  insulin   bmi  pedigree  age  label\n",
      "0           6      148  72    35        0  33.6     0.627   50      1\n",
      "1           1       85  66    29        0  26.6     0.351   31      0\n",
      "2           8      183  64     0        0  23.3     0.672   32      1\n",
      "3           1       89  66    23       94  28.1     0.167   21      0\n",
      "4           0      137  40    35      168  43.1     2.288   33      1\n",
      "..        ...      ...  ..   ...      ...   ...       ...  ...    ...\n",
      "763        10      101  76    48      180  32.9     0.171   63      0\n",
      "764         2      122  70    27        0  36.8     0.340   27      0\n",
      "765         5      121  72    23      112  26.2     0.245   30      0\n",
      "766         1      126  60     0        0  30.1     0.349   47      1\n",
      "767         1       93  70    31        0  30.4     0.315   23      0\n",
      "\n",
      "[768 rows x 9 columns]\n"
     ]
    }
   ],
   "source": [
    "#1. Decision Tree\n",
    " \n",
    "#Import Library  \n",
    "import pandas as pd\n",
    "from sklearn.tree import DecisionTreeClassifier \n",
    "from sklearn.model_selection import train_test_split \n",
    "from sklearn import metrics\n",
    "from matplotlib import pyplot as plt\n",
    "from sklearn import tree\n",
    "from sklearn.tree import export_text\n",
    "\n",
    "#Melakukan pembacaaan dataset  \n",
    "col_names = ['pregnant', 'glucose', 'bp', 'skin', 'insulin', 'bmi', 'pedigree',\n",
    "'age', 'label'] \n",
    "# load dataset\n",
    "pima = pd.read_csv(\"E:\\KULIAH S2 ILKOM\\Semester 2\\Pengenalan Pola\\Responsi\\Pertemuan 8\\pima-indians-diabetes.csv\", header=None, names=col_names)\n",
    "print(pima)"
   ]
  },
  {
   "cell_type": "code",
   "execution_count": 13,
   "id": "trying-violation",
   "metadata": {},
   "outputs": [],
   "source": [
    "#split dataset in features and target variable\n",
    "feature_cols = ['pregnant', 'insulin', 'bmi', 'age','glucose','bp','pedigree']\n",
    "x = pima[feature_cols] # Features\n",
    "y = pima.label # Target variable\n",
    "\n",
    "\n",
    "# Split dataset into training set and test set\n",
    "X_train, X_test, y_train, y_test = train_test_split(x, y, test_size=0.25, random_state=3)"
   ]
  },
  {
   "cell_type": "code",
   "execution_count": null,
   "id": "italian-herald",
   "metadata": {},
   "outputs": [],
   "source": [
    "# Membuat objek DT\n",
    "# Dapat dioptimalkan dengan menghitung Entropy  \n",
    "clf = DecisionTreeClassifier()\n",
    "clf = DecisionTreeClassifier(criterion=\"entropy\", max_depth=7)\n",
    "\n",
    "# Melakukan Pelatihan DT \n",
    "clf = clf.fit(X_train,y_train)\n",
    "\n",
    "# Memprediksi \n",
    "y_pred = clf.predict(X_test)\n",
    "\n",
    "# Menghitung akurasimodel \n",
    "print(\"Accuracy:\",metrics.accuracy_score(y_test, y_pred))\n",
    "\n",
    "# Plot Text Representation\n",
    "text_representation = tree.export_text(clf)\n",
    "#print(\"\\nVisualisai Tree\\n\")\n",
    "#print(text_representation)\n",
    "# Untuk Menyimpan Log Ploting Text\n",
    "#with open(\"decistion_tree.log\", \"w\") as fout: fout.write(text_representation)\n",
    "\n",
    "# Plot Tree\n",
    "#fig = plt.figure(figsize=(25,20))\n",
    "#fig = tree.plot_tree(clf, filled=True)\n",
    "#fig.savefig(\"decistion_tree.png\")"
   ]
  },
  {
   "cell_type": "code",
   "execution_count": 20,
   "id": "numerical-gathering",
   "metadata": {},
   "outputs": [],
   "source": [
    "#2. CART (Classification And Regression Tree) \n",
    "\n",
    "# Load Dataset \n",
    "import numpy as np\n",
    "import matplotlib.pyplot as plt \n",
    "import pandas as pd  \n",
    "\n",
    "from sklearn.datasets import load_boston\n",
    "boston_dataset = load_boston()\n",
    "\n",
    "boston = pd.DataFrame(boston_dataset.data, columns=boston_dataset.feature_names)\n",
    "\n",
    "boston['MEDV'] = boston_dataset.target\n",
    "names = boston_dataset.feature_names"
   ]
  },
  {
   "cell_type": "code",
   "execution_count": 21,
   "id": "related-sample",
   "metadata": {},
   "outputs": [],
   "source": [
    "#Library CART pada python\n",
    "from sklearn.tree import DecisionTreeRegressor \n",
    " \n",
    "array = boston.values\n",
    "\n",
    "X = array[:,0:13]\n",
    "Y = array[:,13]\n",
    "#print(X)\n",
    "#print(Y)\n",
    "\n",
    "from sklearn.model_selection import train_test_split\n",
    "X_train, X_test, Y_train, Y_test = train_test_split(X, Y, test_size=0.3,\n",
    "random_state=1234)\n",
    "\n",
    "#model = DecisionTreeRegressor(max_leaf_nodes = 20)\n",
    "\n",
    "model = DecisionTreeRegressor(criterion='mse', max_depth=None, max_features=None,\n",
    "           max_leaf_nodes=50, min_impurity_decrease=0.0,\n",
    "           min_impurity_split=None, min_samples_leaf=1,\n",
    "           min_samples_split=2, min_weight_fraction_leaf=0.0,\n",
    "           random_state=None, splitter='best')"
   ]
  },
  {
   "cell_type": "code",
   "execution_count": null,
   "id": "correct-virgin",
   "metadata": {},
   "outputs": [],
   "source": [
    "#Evaluasi  \n",
    "rt = model.fit(X_train, Y_train)\n",
    "rt\n",
    "\n",
    "import random as rnd\n",
    "\n",
    "rnd.seed(123458)\n",
    "X_new = X[rnd.randrange(X.shape[0])]\n",
    "X_new = X_new.reshape(1,13)\n",
    "\n",
    "#Prediksi Model \n",
    "YHat = model.predict(X_new)\n",
    "\n",
    "df = pd.DataFrame(X_new, columns = names)\n",
    "df[\"Predicted Price\"] = YHat\n",
    "df.head(1)\n",
    "\n",
    "from sklearn.metrics import r2_score\n",
    "YHat = model.predict(X_test)\n",
    "#print(YHat)\n",
    "\n",
    "# Plot Text Representation\n",
    "#text_representation = tree.export_text(rt)\n",
    "print(\"\\nVisualisai Tree\\n\")\n",
    "#print(text_representation)\n",
    "# Untuk Menyimpan Log Ploting Text\n",
    "#with open(\"cart.log\", \"w\") as fout: fout.write(text_representation)\n",
    "\n",
    "# Plot Tree\n",
    "fig = plt.figure(figsize=(25,20))\n",
    "fig = tree.plot_tree(rt, filled=True)\n",
    "#fig.savefig(\"decistion_tree.png\")\n"
   ]
  },
  {
   "cell_type": "code",
   "execution_count": null,
   "id": "secret-kennedy",
   "metadata": {},
   "outputs": [],
   "source": [
    "#Menghitung Rata-rata Kuadrat \n",
    "r2 = r2_score(Y_test, YHat)\n",
    "print(\"R-Squared = \", r2) "
   ]
  },
  {
   "cell_type": "code",
   "execution_count": 30,
   "id": "reduced-algorithm",
   "metadata": {},
   "outputs": [],
   "source": [
    "#3. Bagging\n",
    "\n",
    "#Impor Library  \n",
    "import numpy as np\n",
    "from sklearn import datasets\n",
    "from sklearn.model_selection import train_test_split\n",
    "from sklearn.preprocessing import StandardScaler\n",
    "from sklearn.linear_model import LogisticRegression\n",
    "from sklearn.pipeline import make_pipeline\n",
    "from sklearn.ensemble import BaggingClassifier\n",
    "from sklearn.model_selection import GridSearchCV\n",
    " \n",
    "#Load cancer dataset \n",
    "bc = datasets.load_breast_cancer()\n",
    "X = bc.data\n",
    "y = bc.target\n",
    "\n",
    "#membagi dataset \n",
    "X_train, X_test, y_train, y_test = train_test_split(X, y, test_size=0.25, random_state=1, stratify=y)"
   ]
  },
  {
   "cell_type": "code",
   "execution_count": 75,
   "id": "approved-albany",
   "metadata": {},
   "outputs": [],
   "source": [
    "#Melakukan pipelining \n",
    "pipeline = make_pipeline(StandardScaler(),LogisticRegression(random_state=1))"
   ]
  },
  {
   "cell_type": "code",
   "execution_count": 76,
   "id": "hollow-empire",
   "metadata": {},
   "outputs": [
    {
     "name": "stdout",
     "output_type": "stream",
     "text": [
      "Model test Score: 0.958,  Model training Score: 0.960\n"
     ]
    }
   ],
   "source": [
    "#Skema Bagging \n",
    "bgclassifier = BaggingClassifier(base_estimator=pipeline, n_estimators=100,\n",
    "                                 max_features=8,\n",
    "                                 max_samples=80,\n",
    "                                 random_state=1, n_jobs=5)\n",
    "\n",
    "bgclassifier.fit(X_train, y_train)\n",
    "\n",
    "print('Model test Score: %.3f, ' %bgclassifier.score(X_test, y_test),\n",
    "      'Model training Score: %.3f' %bgclassifier.score(X_train, y_train))"
   ]
  },
  {
   "cell_type": "code",
   "execution_count": 77,
   "id": "vulnerable-middle",
   "metadata": {},
   "outputs": [
    {
     "name": "stdout",
     "output_type": "stream",
     "text": [
      "Model test Score: 0.965,  Model training Score: 0.991\n"
     ]
    }
   ],
   "source": [
    "# Model Tanpa Bagging\n",
    "# Fit the model\n",
    "pipeline.fit(X_train, y_train)\n",
    "\n",
    "# Model scores on test and training data\n",
    "print('Model test Score: %.3f, ' %pipeline.score(X_test, y_test),\n",
    "      'Model training Score: %.3f' %pipeline.score(X_train, y_train))"
   ]
  },
  {
   "cell_type": "code",
   "execution_count": null,
   "id": "boxed-weapon",
   "metadata": {},
   "outputs": [],
   "source": []
  }
 ],
 "metadata": {
  "kernelspec": {
   "display_name": "Python 3",
   "language": "python",
   "name": "python3"
  },
  "language_info": {
   "codemirror_mode": {
    "name": "ipython",
    "version": 3
   },
   "file_extension": ".py",
   "mimetype": "text/x-python",
   "name": "python",
   "nbconvert_exporter": "python",
   "pygments_lexer": "ipython3",
   "version": "3.9.0"
  }
 },
 "nbformat": 4,
 "nbformat_minor": 5
}
