{
 "cells": [
  {
   "cell_type": "code",
   "execution_count": 3,
   "id": "opening-bubble",
   "metadata": {},
   "outputs": [
    {
     "name": "stdout",
     "output_type": "stream",
     "text": [
      "<class 'pandas.core.frame.DataFrame'>\n",
      "RangeIndex: 30000 entries, 0 to 29999\n",
      "Data columns (total 25 columns):\n",
      " #   Column                      Non-Null Count  Dtype\n",
      "---  ------                      --------------  -----\n",
      " 0   ID                          30000 non-null  int64\n",
      " 1   LIMIT_BAL                   30000 non-null  int64\n",
      " 2   SEX                         30000 non-null  int64\n",
      " 3   EDUCATION                   30000 non-null  int64\n",
      " 4   MARRIAGE                    30000 non-null  int64\n",
      " 5   AGE                         30000 non-null  int64\n",
      " 6   PAY_0                       30000 non-null  int64\n",
      " 7   PAY_2                       30000 non-null  int64\n",
      " 8   PAY_3                       30000 non-null  int64\n",
      " 9   PAY_4                       30000 non-null  int64\n",
      " 10  PAY_5                       30000 non-null  int64\n",
      " 11  PAY_6                       30000 non-null  int64\n",
      " 12  BILL_AMT1                   30000 non-null  int64\n",
      " 13  BILL_AMT2                   30000 non-null  int64\n",
      " 14  BILL_AMT3                   30000 non-null  int64\n",
      " 15  BILL_AMT4                   30000 non-null  int64\n",
      " 16  BILL_AMT5                   30000 non-null  int64\n",
      " 17  BILL_AMT6                   30000 non-null  int64\n",
      " 18  PAY_AMT1                    30000 non-null  int64\n",
      " 19  PAY_AMT2                    30000 non-null  int64\n",
      " 20  PAY_AMT3                    30000 non-null  int64\n",
      " 21  PAY_AMT4                    30000 non-null  int64\n",
      " 22  PAY_AMT5                    30000 non-null  int64\n",
      " 23  PAY_AMT6                    30000 non-null  int64\n",
      " 24  default.payment.next.month  30000 non-null  bool \n",
      "dtypes: bool(1), int64(24)\n",
      "memory usage: 5.5 MB\n"
     ]
    }
   ],
   "source": [
    "#Import Library  \n",
    "import pandas as pd\n",
    "import numpy as np\n",
    "from sklearn.model_selection import train_test_split\n",
    "from sklearn.ensemble import RandomForestClassifier\n",
    "from sklearn import metrics\n",
    "\n",
    "\n",
    "UCI = pd.read_csv('E:\\KULIAH S2 ILKOM\\Semester 2\\Pengenalan Pola\\Dataset default of credit card\\default of credit card clients.csv', sep=\";\")\n",
    "UCI['default.payment.next.month'] = UCI['default.payment.next.month'].astype('bool')\n",
    "UCI.info()\n",
    "\n",
    "y = (UCI['default.payment.next.month'])\n",
    "feature_names = [i for i in UCI.columns if UCI[i].dtype in [np.int64, np.float64]]\n",
    "X= UCI[feature_names]\n"
   ]
  },
  {
   "cell_type": "code",
   "execution_count": 4,
   "id": "derived-coating",
   "metadata": {},
   "outputs": [],
   "source": [
    "#Pembagian data latih dan data uji\n",
    "train_X, val_X, train_y, val_y = train_test_split(X, y, test_size=0.25, random_state=1)\n",
    "\n",
    "# Pembuatan Model\n",
    "my_model = RandomForestClassifier(n_estimators=100, random_state=0).fit(train_X, train_y)"
   ]
  },
  {
   "cell_type": "code",
   "execution_count": 12,
   "id": "lesser-struggle",
   "metadata": {},
   "outputs": [
    {
     "name": "stdout",
     "output_type": "stream",
     "text": [
      "Accuracy: 0.8165333333333333\n"
     ]
    }
   ],
   "source": [
    "# Memprediksi \n",
    "y_pred = my_model.predict(val_X)\n",
    "\n",
    "# Menghitung akurasimodel \n",
    "print(\"Accuracy:\",metrics.accuracy_score(val_y, y_pred))"
   ]
  },
  {
   "cell_type": "code",
   "execution_count": null,
   "id": "understood-supplement",
   "metadata": {},
   "outputs": [],
   "source": [
    "# Menghitung Bias/Variance\n",
    "print(\"Bias/Variance:\", metrics.explained_variance_score(y_pred, val_y))"
   ]
  },
  {
   "cell_type": "code",
   "execution_count": null,
   "id": "independent-custom",
   "metadata": {},
   "outputs": [],
   "source": []
  }
 ],
 "metadata": {
  "kernelspec": {
   "display_name": "Python 3",
   "language": "python",
   "name": "python3"
  },
  "language_info": {
   "codemirror_mode": {
    "name": "ipython",
    "version": 3
   },
   "file_extension": ".py",
   "mimetype": "text/x-python",
   "name": "python",
   "nbconvert_exporter": "python",
   "pygments_lexer": "ipython3",
   "version": "3.9.0"
  }
 },
 "nbformat": 4,
 "nbformat_minor": 5
}
